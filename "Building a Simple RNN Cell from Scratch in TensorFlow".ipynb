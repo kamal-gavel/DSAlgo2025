{
  "nbformat": 4,
  "nbformat_minor": 0,
  "metadata": {
    "colab": {
      "provenance": [],
      "authorship_tag": "ABX9TyPeXt+2TLlNT1nOKymcM5LT",
      "include_colab_link": true
    },
    "kernelspec": {
      "name": "python3",
      "display_name": "Python 3"
    },
    "language_info": {
      "name": "python"
    }
  },
  "cells": [
    {
      "cell_type": "markdown",
      "metadata": {
        "id": "view-in-github",
        "colab_type": "text"
      },
      "source": [
        "<a href=\"https://colab.research.google.com/github/kamal-gavel/DSAlgo2025/blob/main/%22Building%20a%20Simple%20RNN%20Cell%20from%20Scratch%20in%20TensorFlow%22.ipynb\" target=\"_parent\"><img src=\"https://colab.research.google.com/assets/colab-badge.svg\" alt=\"Open In Colab\"/></a>"
      ]
    },
    {
      "cell_type": "code",
      "execution_count": 3,
      "metadata": {
        "colab": {
          "base_uri": "https://localhost:8080/"
        },
        "id": "LPbLwaMQZQrc",
        "outputId": "d4358a3b-5f74-434f-9d8c-5897c07ca693"
      },
      "outputs": [
        {
          "output_type": "stream",
          "name": "stdout",
          "text": [
            "Output:\n",
            " [[ 0.03084788]\n",
            " [-0.04064235]\n",
            " [ 0.01814701]\n",
            " [ 0.02584566]]\n",
            "Hidden state:\n",
            " [[ 0.09038232]\n",
            " [-0.04308635]\n",
            " [ 0.26965773]\n",
            " [ 0.15314259]\n",
            " [-0.13881998]\n",
            " [ 0.06070125]\n",
            " [-0.20702295]\n",
            " [-0.23767668]\n",
            " [-0.1823774 ]\n",
            " [ 0.05816581]\n",
            " [-0.05996999]\n",
            " [-0.07446988]\n",
            " [ 0.24501102]\n",
            " [ 0.25280797]\n",
            " [-0.02825926]\n",
            " [ 0.07764255]]\n"
          ]
        }
      ],
      "source": [
        "import tensorflow as tf\n",
        "\n",
        "class MyRNNCell(tf.keras.layers.Layer):\n",
        "    def __init__(self, rnn_units, input_dim, output_dim):\n",
        "        super(MyRNNCell, self).__init__()\n",
        "\n",
        "        # Initialize weight matrices\n",
        "        self.W_xh = self.add_weight(shape=(rnn_units, input_dim),\n",
        "                                    initializer=\"random_normal\",\n",
        "                                    trainable=True)\n",
        "        self.W_hh = self.add_weight(shape=(rnn_units, rnn_units),\n",
        "                                    initializer=\"random_normal\",\n",
        "                                    trainable=True)\n",
        "        self.W_hy = self.add_weight(shape=(output_dim, rnn_units),\n",
        "                                    initializer=\"random_normal\",\n",
        "                                    trainable=True)\n",
        "\n",
        "        # Initialize hidden state to zeros\n",
        "        self.h = tf.zeros((rnn_units, 1))\n",
        "\n",
        "    def call(self, x):\n",
        "        # Update the hidden state\n",
        "        self.h = tf.math.tanh(tf.matmul(self.W_hh, self.h) + tf.matmul(self.W_xh, x))\n",
        "\n",
        "        # Compute the output\n",
        "        output = tf.matmul(self.W_hy, self.h)\n",
        "\n",
        "        # Return the current output and hidden state\n",
        "        return output, self.h\n",
        "\n",
        "\n",
        "# Example usage:\n",
        "rnn_cell = MyRNNCell(rnn_units=16, input_dim=8, output_dim=4)\n",
        "\n",
        "# Dummy input vector (8 features, batch_size=1)\n",
        "x = tf.random.normal((8, 1))\n",
        "\n",
        "output, hidden_state = rnn_cell(x)\n",
        "\n",
        "print(\"Output:\\n\", output.numpy())\n",
        "print(\"Hidden state:\\n\", hidden_state.numpy())\n"
      ]
    }
  ]
}