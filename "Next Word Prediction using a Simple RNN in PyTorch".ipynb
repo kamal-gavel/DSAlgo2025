{
  "nbformat": 4,
  "nbformat_minor": 0,
  "metadata": {
    "colab": {
      "provenance": [],
      "authorship_tag": "ABX9TyOIWlEt+3XSPcbh/nJ7mDB6",
      "include_colab_link": true
    },
    "kernelspec": {
      "name": "python3",
      "display_name": "Python 3"
    },
    "language_info": {
      "name": "python"
    }
  },
  "cells": [
    {
      "cell_type": "markdown",
      "metadata": {
        "id": "view-in-github",
        "colab_type": "text"
      },
      "source": [
        "<a href=\"https://colab.research.google.com/github/kamal-gavel/DSAlgo2025/blob/main/%22Next%20Word%20Prediction%20using%20a%20Simple%20RNN%20in%20PyTorch%22.ipynb\" target=\"_parent\"><img src=\"https://colab.research.google.com/assets/colab-badge.svg\" alt=\"Open In Colab\"/></a>"
      ]
    },
    {
      "cell_type": "code",
      "execution_count": 1,
      "metadata": {
        "colab": {
          "base_uri": "https://localhost:8080/"
        },
        "id": "LPbLwaMQZQrc",
        "outputId": "2f50c9c6-7b4e-478f-f719-a1d63e6b5e3b"
      },
      "outputs": [
        {
          "output_type": "stream",
          "name": "stdout",
          "text": [
            "Next word prediction: neural\n"
          ]
        }
      ],
      "source": [
        "import torch\n",
        "import torch.nn as nn\n",
        "\n",
        "# Define RNN model\n",
        "class SimpleRNN(nn.Module):\n",
        "    def __init__(self, input_size, hidden_size, output_size):\n",
        "        super(SimpleRNN, self).__init__()\n",
        "        self.rnn = nn.RNN(input_size, hidden_size, batch_first=True)\n",
        "        self.fc = nn.Linear(hidden_size, output_size)\n",
        "\n",
        "    def forward(self, x, hidden):\n",
        "        out, hidden = self.rnn(x, hidden)\n",
        "        out = self.fc(out[:, -1, :])  # take last time step output\n",
        "        return out, hidden\n",
        "\n",
        "\n",
        "# Vocabulary and encoding\n",
        "vocab = [\"I\", \"love\", \"recurrent\", \"neural\", \"networks!\"]\n",
        "word_to_idx = {w: i for i, w in enumerate(vocab)}\n",
        "idx_to_word = {i: w for i, w in enumerate(vocab)}\n",
        "\n",
        "# Hyperparameters\n",
        "input_size = len(vocab)   # one-hot encoding size\n",
        "hidden_size = 4\n",
        "output_size = len(vocab)\n",
        "\n",
        "# Model\n",
        "model = SimpleRNN(input_size, hidden_size, output_size)\n",
        "\n",
        "# Initial hidden state\n",
        "hidden_state = torch.zeros(1, 1, hidden_size)\n",
        "\n",
        "# Convert sentence into one-hot vectors\n",
        "sentence = [\"I\", \"love\", \"recurrent\", \"neural\"]\n",
        "inputs = []\n",
        "for word in sentence:\n",
        "    x = torch.zeros(1, 1, input_size)\n",
        "    x[0, 0, word_to_idx[word]] = 1\n",
        "    inputs.append(x)\n",
        "\n",
        "# Feed sequence into RNN\n",
        "for x in inputs:\n",
        "    prediction, hidden_state = model(x, hidden_state)\n",
        "\n",
        "# Predicted next word\n",
        "predicted_idx = torch.argmax(prediction, dim=1).item()\n",
        "next_word_prediction = idx_to_word[predicted_idx]\n",
        "\n",
        "print(\"Next word prediction:\", next_word_prediction)\n"
      ]
    }
  ]
}